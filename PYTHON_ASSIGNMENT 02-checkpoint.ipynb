{
 "cells": [
  {
   "cell_type": "code",
   "execution_count": 1,
   "metadata": {},
   "outputs": [
    {
     "name": "stdout",
     "output_type": "stream",
     "text": [
      "Enter obtained marks99\n",
      "enter obtained marks98\n",
      "enter obtained marks97\n",
      "Enter obtaind marks96\n",
      "Enter obtained marks95\n",
      "485\n",
      "A+\n"
     ]
    }
   ],
   "source": [
    "a= int(input(\"Enter obtained marks\"))\n",
    "b = int(input(\"enter obtained marks\"))\n",
    "c = int(input(\"enter obtained marks\"))\n",
    "d = int(input(\"Enter obtaind marks\"))\n",
    "PYTHON = int(input(\"Enter obtained marks\"));\n",
    "totalobtainedmarks= a + b + c + d + PYTHON \n",
    "print(totalobtainedmarks)\n",
    "PER= (totalobtainedmarks*100)/(500)\n",
    "if PER >= 80 and PER < 100:\n",
    "    print(\"A+\")\n",
    "elif  PER >= 70 and PER < 80:\n",
    "        print(\"A\")\n",
    "elif PER >= 60 and PER < 70:\n",
    "            print(\"B\")\n",
    "elif PER >= 0 and PER < 60:\n",
    "                print(\"FAIL\")\n",
    "else:\n",
    "                    (\"YOU HAVE GIVEN AN INAPPROPRIATE %\")"
   ]
  },
  {
   "cell_type": "code",
   "execution_count": 2,
   "metadata": {},
   "outputs": [
    {
     "name": "stdout",
     "output_type": "stream",
     "text": [
      "ENTER A VALUE38\n",
      "Even number\n"
     ]
    }
   ],
   "source": [
    "A=int(input(\"ENTER A VALUE\"))\n",
    "if A % 2 == 0:\n",
    "    print(\"Even number\")\n",
    "else:\n",
    "    print(\"Odd number\")\n"
   ]
  },
  {
   "cell_type": "code",
   "execution_count": 3,
   "metadata": {},
   "outputs": [
    {
     "name": "stdout",
     "output_type": "stream",
     "text": [
      "6\n"
     ]
    }
   ],
   "source": [
    "FAMILY= [\"SAMI\" , \"TANZEELA\" , \"SAAD\", \"UZMA\" , \"SAIMA\" , \"SAIQA\"]\n",
    "print(len(FAMILY))\n"
   ]
  },
  {
   "cell_type": "code",
   "execution_count": 5,
   "metadata": {},
   "outputs": [
    {
     "name": "stdout",
     "output_type": "stream",
     "text": [
      "SUM OF ALL NUMBERS IN LIST: 136\n"
     ]
    }
   ],
   "source": [
    "A=[5 , 38 , 10, 15, 68]\n",
    "print(\"SUM OF ALL NUMBERS IN LIST:\" , sum(A))"
   ]
  },
  {
   "cell_type": "code",
   "execution_count": 7,
   "metadata": {},
   "outputs": [
    {
     "name": "stdout",
     "output_type": "stream",
     "text": [
      "LARGEST NUMBER IN LIST: 38\n"
     ]
    }
   ],
   "source": [
    "A=[5 , 38 , 10, 13, 1]\n",
    "print(\"LARGEST NUMBER IN LIST:\" , max(A))"
   ]
  },
  {
   "cell_type": "code",
   "execution_count": 9,
   "metadata": {},
   "outputs": [
    {
     "name": "stdout",
     "output_type": "stream",
     "text": [
      "1\n",
      "1\n",
      "2\n",
      "3\n",
      "4\n",
      "3\n"
     ]
    }
   ],
   "source": [
    "A=[1, 1, 2, 3, 5, 4, 6, 3, 5, 8, 13, 22, 34, 56, 89]\n",
    "for nums in A:\n",
    "    if nums < 5:\n",
    "        print(nums)\n"
   ]
  },
  {
   "cell_type": "code",
   "execution_count": null,
   "metadata": {},
   "outputs": [],
   "source": []
  }
 ],
 "metadata": {
  "kernelspec": {
   "display_name": "Python 3",
   "language": "python",
   "name": "python3"
  },
  "language_info": {
   "codemirror_mode": {
    "name": "ipython",
    "version": 3
   },
   "file_extension": ".py",
   "mimetype": "text/x-python",
   "name": "python",
   "nbconvert_exporter": "python",
   "pygments_lexer": "ipython3",
   "version": "3.7.4"
  }
 },
 "nbformat": 4,
 "nbformat_minor": 2
}
